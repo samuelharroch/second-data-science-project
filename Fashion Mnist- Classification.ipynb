{
 "cells": [
  {
   "cell_type": "markdown",
   "metadata": {},
   "source": [
    "# Fashion-Mnist Classification"
   ]
  },
  {
   "cell_type": "code",
   "execution_count": 2,
   "metadata": {},
   "outputs": [],
   "source": [
    "import tensorflow as tf\n",
    "from tensorflow import keras\n",
    "import numpy as np\n",
    "import pandas as pd\n",
    "import matplotlib.pyplot as plt\n",
    "import seaborn as sns \n",
    "from mpl_toolkits.mplot3d import Axes3D\n"
   ]
  },
  {
   "cell_type": "markdown",
   "metadata": {},
   "source": [
    "### load the data"
   ]
  },
  {
   "cell_type": "code",
   "execution_count": 3,
   "metadata": {},
   "outputs": [],
   "source": [
    "fashion_mnist = keras.datasets.fashion_mnist\n",
    "\n",
    "(train_images, train_labels), (test_images, test_labels) = fashion_mnist.load_data()"
   ]
  },
  {
   "cell_type": "markdown",
   "metadata": {},
   "source": [
    "## some data information"
   ]
  },
  {
   "cell_type": "code",
   "execution_count": 4,
   "metadata": {},
   "outputs": [
    {
     "data": {
      "text/plain": [
       "(60000, 28, 28)"
      ]
     },
     "execution_count": 4,
     "metadata": {},
     "output_type": "execute_result"
    }
   ],
   "source": [
    "train_images.shape"
   ]
  },
  {
   "cell_type": "code",
   "execution_count": 5,
   "metadata": {},
   "outputs": [
    {
     "data": {
      "text/plain": [
       "60000"
      ]
     },
     "execution_count": 5,
     "metadata": {},
     "output_type": "execute_result"
    }
   ],
   "source": [
    "len(train_labels)"
   ]
  },
  {
   "cell_type": "code",
   "execution_count": 6,
   "metadata": {},
   "outputs": [
    {
     "data": {
      "text/plain": [
       "(10000, 28, 28)"
      ]
     },
     "execution_count": 6,
     "metadata": {},
     "output_type": "execute_result"
    }
   ],
   "source": [
    "test_images.shape"
   ]
  },
  {
   "cell_type": "code",
   "execution_count": 7,
   "metadata": {},
   "outputs": [
    {
     "data": {
      "text/plain": [
       "10000"
      ]
     },
     "execution_count": 7,
     "metadata": {},
     "output_type": "execute_result"
    }
   ],
   "source": [
    "len(test_labels)"
   ]
  },
  {
   "cell_type": "markdown",
   "metadata": {},
   "source": [
    "## about the labels"
   ]
  },
  {
   "cell_type": "code",
   "execution_count": 8,
   "metadata": {},
   "outputs": [
    {
     "data": {
      "text/plain": [
       "{0: 6000,\n",
       " 1: 6000,\n",
       " 2: 6000,\n",
       " 3: 6000,\n",
       " 4: 6000,\n",
       " 5: 6000,\n",
       " 6: 6000,\n",
       " 7: 6000,\n",
       " 8: 6000,\n",
       " 9: 6000}"
      ]
     },
     "execution_count": 8,
     "metadata": {},
     "output_type": "execute_result"
    }
   ],
   "source": [
    "unique, counts = np.unique(train_labels, return_counts=True)\n",
    "dict(zip(unique, counts))"
   ]
  },
  {
   "cell_type": "code",
   "execution_count": 9,
   "metadata": {},
   "outputs": [
    {
     "data": {
      "text/html": [
       "<div>\n",
       "<style scoped>\n",
       "    .dataframe tbody tr th:only-of-type {\n",
       "        vertical-align: middle;\n",
       "    }\n",
       "\n",
       "    .dataframe tbody tr th {\n",
       "        vertical-align: top;\n",
       "    }\n",
       "\n",
       "    .dataframe thead th {\n",
       "        text-align: right;\n",
       "    }\n",
       "</style>\n",
       "<table border=\"1\" class=\"dataframe\">\n",
       "  <thead>\n",
       "    <tr style=\"text-align: right;\">\n",
       "      <th></th>\n",
       "      <th>0</th>\n",
       "      <th>1</th>\n",
       "    </tr>\n",
       "  </thead>\n",
       "  <tbody>\n",
       "    <tr>\n",
       "      <th>0</th>\n",
       "      <td>T-shirt/top</td>\n",
       "      <td>0</td>\n",
       "    </tr>\n",
       "    <tr>\n",
       "      <th>1</th>\n",
       "      <td>Trouser</td>\n",
       "      <td>1</td>\n",
       "    </tr>\n",
       "    <tr>\n",
       "      <th>2</th>\n",
       "      <td>Pullover</td>\n",
       "      <td>2</td>\n",
       "    </tr>\n",
       "    <tr>\n",
       "      <th>3</th>\n",
       "      <td>Dress</td>\n",
       "      <td>3</td>\n",
       "    </tr>\n",
       "    <tr>\n",
       "      <th>4</th>\n",
       "      <td>Coat</td>\n",
       "      <td>4</td>\n",
       "    </tr>\n",
       "    <tr>\n",
       "      <th>5</th>\n",
       "      <td>Sandal</td>\n",
       "      <td>5</td>\n",
       "    </tr>\n",
       "    <tr>\n",
       "      <th>6</th>\n",
       "      <td>Shirt</td>\n",
       "      <td>6</td>\n",
       "    </tr>\n",
       "    <tr>\n",
       "      <th>7</th>\n",
       "      <td>Sneaker</td>\n",
       "      <td>7</td>\n",
       "    </tr>\n",
       "    <tr>\n",
       "      <th>8</th>\n",
       "      <td>Bag</td>\n",
       "      <td>8</td>\n",
       "    </tr>\n",
       "    <tr>\n",
       "      <th>9</th>\n",
       "      <td>Ankle boot</td>\n",
       "      <td>9</td>\n",
       "    </tr>\n",
       "  </tbody>\n",
       "</table>\n",
       "</div>"
      ],
      "text/plain": [
       "             0  1\n",
       "0  T-shirt/top  0\n",
       "1      Trouser  1\n",
       "2     Pullover  2\n",
       "3        Dress  3\n",
       "4         Coat  4\n",
       "5       Sandal  5\n",
       "6        Shirt  6\n",
       "7      Sneaker  7\n",
       "8          Bag  8\n",
       "9   Ankle boot  9"
      ]
     },
     "execution_count": 9,
     "metadata": {},
     "output_type": "execute_result"
    }
   ],
   "source": [
    "class_names = ['T-shirt/top', 'Trouser', 'Pullover', 'Dress', 'Coat',\n",
    "               'Sandal', 'Shirt', 'Sneaker', 'Bag', 'Ankle boot']\n",
    "dic=dict(zip(class_names,unique))\n",
    "df = pd.DataFrame(dic.items())\n",
    "df"
   ]
  },
  {
   "cell_type": "markdown",
   "metadata": {},
   "source": [
    "### lets plot some images"
   ]
  },
  {
   "cell_type": "code",
   "execution_count": 10,
   "metadata": {},
   "outputs": [
    {
     "data": {
      "image/png": "[encoded data removed]",
      "text/plain": [
       "<Figure size 720x720 with 25 Axes>"
      ]
     },
     "metadata": {},
     "output_type": "display_data"
    }
   ],
   "source": [
    "plt.figure(figsize=(10,10))\n",
    "for i in range(25):\n",
    "    plt.subplot(5,5,i+1)\n",
    "    plt.xticks([])\n",
    "    plt.yticks([])\n",
    "    plt.grid(False)\n",
    "    plt.imshow(train_images[i], cmap=plt.cm.binary)\n",
    "    plt.xlabel(class_names[train_labels[i]])\n",
    "plt.show()"
   ]
  },
  {
   "cell_type": "markdown",
   "metadata": {},
   "source": [
    "# PCA"
   ]
  },
  {
   "cell_type": "markdown",
   "metadata": {},
   "source": [
    "reshaping the form of the images for pca"
   ]
  },
  {
   "cell_type": "code",
   "execution_count": 11,
   "metadata": {},
   "outputs": [],
   "source": [
    "from sklearn.decomposition import PCA\n",
    "train_images = train_images.reshape(len(train_images),28*28)\n",
    "test_images= test_images.reshape(len(test_images),28*28)"
   ]
  },
  {
   "cell_type": "markdown",
   "metadata": {},
   "source": [
    "##### lets plot some sample (500) after pca transormation \n",
    "first with 3 components"
   ]
  },
  {
   "cell_type": "code",
   "execution_count": 12,
   "metadata": {},
   "outputs": [
    {
     "data": {
      "image/png": "[encoded data removed]",
      "text/plain": [
       "<Figure size 576x432 with 1 Axes>"
      ]
     },
     "metadata": {
      "needs_background": "light"
     },
     "output_type": "display_data"
    }
   ],
   "source": [
    "pca = PCA(n_components = 3)\n",
    "\n",
    "fig = plt.figure(1, figsize=(8, 6))\n",
    "ax = Axes3D(fig, elev=-150, azim=110)\n",
    "X_reduced = pca.fit_transform(train_images.reshape(len(train_images),28*28))\n",
    "ax.scatter(X_reduced[:500, 0], X_reduced[:500, 1], X_reduced[:500, 2], c=train_labels[:500],\n",
    "           cmap=plt.cm.Set1, edgecolor='k', s=40 )\n",
    "ax.set_title(\"First three PCA directions\")\n",
    "ax.set_xlabel(\"1st eigenvector\")\n",
    "ax.w_xaxis.set_ticklabels([])\n",
    "ax.set_ylabel(\"2nd eigenvector\")\n",
    "ax.w_yaxis.set_ticklabels([])\n",
    "ax.set_zlabel(\"3rd eigenvector\")\n",
    "ax.w_zaxis.set_ticklabels([])\n",
    "\n",
    "plt.show()"
   ]
  },
  {
   "cell_type": "markdown",
   "metadata": {},
   "source": [
    "how many percent of the data are around the axis of the 3 components"
   ]
  },
  {
   "cell_type": "code",
   "execution_count": 13,
   "metadata": {},
   "outputs": [
    {
     "name": "stdout",
     "output_type": "stream",
     "text": [
      "[0.29039228 0.1775531  0.06019222]\n",
      "0.5281375988269666\n"
     ]
    }
   ],
   "source": [
    "print(pca.explained_variance_ratio_)\n",
    "print(np.sum(pca.explained_variance_ratio_))\n"
   ]
  },
  {
   "cell_type": "markdown",
   "metadata": {},
   "source": [
    "lets do the same with 2 components"
   ]
  },
  {
   "cell_type": "code",
   "execution_count": 14,
   "metadata": {},
   "outputs": [
    {
     "data": {
      "text/plain": [
       "([], <a list of 0 Text yticklabel objects>)"
      ]
     },
     "execution_count": 14,
     "metadata": {},
     "output_type": "execute_result"
    },
    {
     "data": {
      "image/png": "[encoded data removed]",
      "text/plain": [
       "<Figure size 576x432 with 1 Axes>"
      ]
     },
     "metadata": {},
     "output_type": "display_data"
    }
   ],
   "source": [
    "pca = PCA(n_components = 2)\n",
    "X_reduced = pca.fit_transform(train_images.reshape(len(train_images),28*28))\n",
    "\n",
    "x_min, x_max = X_reduced[:200, 0].min() - 150, X_reduced[:200, 0].max() + 150\n",
    "y_min, y_max = X_reduced[:200, 1].min() - 150, X_reduced[:200, 1].max() + 150\n",
    "\n",
    "plt.figure(2, figsize=(8, 6))\n",
    "plt.clf()\n",
    "\n",
    "# Plot the training points\n",
    "plt.scatter(X_reduced[:200, 0], X_reduced[:200, 1], c=train_labels[:200], cmap=plt.cm.Set1,\n",
    "            edgecolor='k')\n",
    "plt.xlabel(\"1st eigenvector\")\n",
    "plt.ylabel(\"2nd eigenvector\")\n",
    "plt.title(\"First two PCA directions\")\n",
    "plt.xlim(x_min, x_max)\n",
    "plt.ylim(y_min, y_max)\n",
    "plt.xticks(())\n",
    "plt.yticks(())"
   ]
  },
  {
   "cell_type": "code",
   "execution_count": 15,
   "metadata": {},
   "outputs": [
    {
     "name": "stdout",
     "output_type": "stream",
     "text": [
      "[0.29039228 0.1775531 ]\n",
      "0.4679453789952783\n"
     ]
    }
   ],
   "source": [
    "print(pca.explained_variance_ratio_)\n",
    "print(np.sum(pca.explained_variance_ratio_))"
   ]
  },
  {
   "cell_type": "markdown",
   "metadata": {},
   "source": [
    "### finding the optimal number of components"
   ]
  },
  {
   "cell_type": "code",
   "execution_count": 16,
   "metadata": {},
   "outputs": [
    {
     "data": {
      "text/plain": [
       "Text(0, 0.5, 'cumulative explained variance')"
      ]
     },
     "execution_count": 16,
     "metadata": {},
     "output_type": "execute_result"
    },
    {
     "data": {
      "image/png": "[encoded data removed]",
      "text/plain": [
       "<Figure size 432x288 with 1 Axes>"
      ]
     },
     "metadata": {
      "needs_background": "light"
     },
     "output_type": "display_data"
    }
   ],
   "source": [
    "pca = PCA().fit(train_images.reshape(len(train_images),28*28))\n",
    "plt.plot(np.cumsum(pca.explained_variance_ratio_))\n",
    "plt.xlabel('number of components')\n",
    "plt.ylabel('cumulative explained variance')"
   ]
  },
  {
   "cell_type": "markdown",
   "metadata": {},
   "source": [
    "##### we can see that approximately after 100 components the curve no longer raise"
   ]
  },
  {
   "cell_type": "markdown",
   "metadata": {},
   "source": [
    "lets take 100 components and fit and transform the data"
   ]
  },
  {
   "cell_type": "code",
   "execution_count": 17,
   "metadata": {},
   "outputs": [],
   "source": [
    "pca=PCA(n_components = 100)\n",
    "compressed_train_images = pca.fit_transform(train_images)\n",
    "decompressed_train_images= pca.inverse_transform(compressed_train_images)\n",
    "compressed_test_images = pca.transform(test_images)"
   ]
  },
  {
   "cell_type": "markdown",
   "metadata": {},
   "source": [
    "and the result of the transformation"
   ]
  },
  {
   "cell_type": "code",
   "execution_count": 18,
   "metadata": {},
   "outputs": [
    {
     "data": {
      "image/png": "[encoded data removed]",
      "text/plain": [
       "<Figure size 576x576 with 2 Axes>"
      ]
     },
     "metadata": {},
     "output_type": "display_data"
    }
   ],
   "source": [
    "plt.figure(figsize=(8,8))\n",
    "plt.subplot(1,2,1)   \n",
    "plt.xticks([])\n",
    "plt.yticks([])\n",
    "plt.grid(False)\n",
    "plt.xlabel('before compress and decompress',fontsize=12)\n",
    "plt.imshow(train_images[0].reshape(28,28), cmap=plt.cm.binary)\n",
    "\n",
    "plt.subplot(1,2,2)   \n",
    "plt.xticks([])\n",
    "plt.yticks([])\n",
    "plt.grid(False)\n",
    "plt.imshow(decompressed_train_images[0].reshape(28,28), cmap=plt.cm.binary)\n",
    "plt.xlabel('after compress and decompress', fontsize=12)\n",
    "plt.show()"
   ]
  },
  {
   "cell_type": "markdown",
   "metadata": {},
   "source": [
    "# Models"
   ]
  },
  {
   "cell_type": "markdown",
   "metadata": {},
   "source": [
    "##### most of the models are training and testing first with the original data (28x28 pixels image) and after with the compressed data by PCA, the cross validation is apply on the compressed data "
   ]
  },
  {
   "cell_type": "code",
   "execution_count": 19,
   "metadata": {},
   "outputs": [],
   "source": [
    "from sklearn import metrics\n",
    "from sklearn import tree\n",
    "from sklearn.metrics import classification_report, confusion_matrix\n",
    "import warnings\n",
    "warnings.filterwarnings(\"ignore\")"
   ]
  },
  {
   "cell_type": "markdown",
   "metadata": {},
   "source": [
    "# KNN"
   ]
  },
  {
   "cell_type": "code",
   "execution_count": 20,
   "metadata": {},
   "outputs": [
    {
     "name": "stdout",
     "output_type": "stream",
     "text": [
      "knn Accuracy : 0.8554 \n",
      "\n",
      "Knn Matrix:\n",
      "[[855   1  17  16   3   1 100   1   6   0]\n",
      " [  8 968   4  12   4   0   3   0   1   0]\n",
      " [ 24   2 819  11  75   0  69   0   0   0]\n",
      " [ 41   8  15 860  39   0  34   0   3   0]\n",
      " [  2   1 126  26 773   0  71   0   1   0]\n",
      " [  1   0   0   0   0 822   5  96   1  75]\n",
      " [176   1 132  23  80   0 575   0  13   0]\n",
      " [  0   0   0   0   0   3   0 961   0  36]\n",
      " [  2   0  10   4   7   0  16   7 953   1]\n",
      " [  0   0   0   0   0   2   1  29   0 968]] \n",
      "\n",
      "Classification Report:\n",
      "              precision    recall  f1-score   support\n",
      "\n",
      "           0       0.77      0.85      0.81      1000\n",
      "           1       0.99      0.97      0.98      1000\n",
      "           2       0.73      0.82      0.77      1000\n",
      "           3       0.90      0.86      0.88      1000\n",
      "           4       0.79      0.77      0.78      1000\n",
      "           5       0.99      0.82      0.90      1000\n",
      "           6       0.66      0.57      0.61      1000\n",
      "           7       0.88      0.96      0.92      1000\n",
      "           8       0.97      0.95      0.96      1000\n",
      "           9       0.90      0.97      0.93      1000\n",
      "\n",
      "    accuracy                           0.86     10000\n",
      "   macro avg       0.86      0.86      0.85     10000\n",
      "weighted avg       0.86      0.86      0.85     10000\n",
      "\n"
     ]
    }
   ],
   "source": [
    "from sklearn.neighbors import KNeighborsClassifier\n",
    "knn = KNeighborsClassifier(n_neighbors=5)\n",
    "\n",
    "knn.fit(train_images,train_labels)\n",
    "print('knn Accuracy :',knn.score(test_images,test_labels),\"\\n\")\n",
    "\n",
    "y_pred = knn.predict(test_images)\n",
    "\n",
    "print(\"Knn Matrix:\")\n",
    "print( confusion_matrix(test_labels,y_pred),\"\\n\")\n",
    "print(\"Classification Report:\")\n",
    "print(classification_report(test_labels, y_pred))\n"
   ]
  },
  {
   "cell_type": "code",
   "execution_count": 21,
   "metadata": {},
   "outputs": [],
   "source": [
    "from sklearn.model_selection import KFold, cross_val_score\n",
    "\n",
    "kf = KFold(n_splits=10,shuffle=True)\n",
    "\n",
    "def display_scores(scores):\n",
    "    print(\"Cross Validation Scores:\", scores)\n",
    "    print(\"Mean:\", scores.mean())\n",
    "    print(\"Standard deviation:\", scores.std())"
   ]
  },
  {
   "cell_type": "code",
   "execution_count": 22,
   "metadata": {},
   "outputs": [
    {
     "name": "stdout",
     "output_type": "stream",
     "text": [
      "knn Accuracy with PCA : 0.8625 \n",
      "\n",
      "Knn Matrix with PCA:\n",
      "[[841   1  14  18   6   1 109   1   9   0]\n",
      " [  6 969   4  13   5   0   2   0   1   0]\n",
      " [ 21   2 791  12 103   0  70   0   1   0]\n",
      " [ 35   6  14 881  37   0  24   0   3   0]\n",
      " [  2   2 114  23 785   0  70   0   4   0]\n",
      " [  0   0   0   0   0 894   0  57   2  47]\n",
      " [169   3 125  21  92   0 579   0  11   0]\n",
      " [  0   0   0   0   0   8   0 952   0  40]\n",
      " [  3   0   5   5   4   2  10   5 965   1]\n",
      " [  0   0   0   0   0   2   0  29   1 968]] \n",
      "\n",
      "Classification Report:\n",
      "              precision    recall  f1-score   support\n",
      "\n",
      "           0       0.78      0.84      0.81      1000\n",
      "           1       0.99      0.97      0.98      1000\n",
      "           2       0.74      0.79      0.77      1000\n",
      "           3       0.91      0.88      0.89      1000\n",
      "           4       0.76      0.79      0.77      1000\n",
      "           5       0.99      0.89      0.94      1000\n",
      "           6       0.67      0.58      0.62      1000\n",
      "           7       0.91      0.95      0.93      1000\n",
      "           8       0.97      0.96      0.97      1000\n",
      "           9       0.92      0.97      0.94      1000\n",
      "\n",
      "    accuracy                           0.86     10000\n",
      "   macro avg       0.86      0.86      0.86     10000\n",
      "weighted avg       0.86      0.86      0.86     10000\n",
      "\n"
     ]
    }
   ],
   "source": [
    "knn = KNeighborsClassifier(n_neighbors=5)\n",
    "\n",
    "knn.fit(compressed_train_images,train_labels)\n",
    "print('knn Accuracy with PCA :',knn.score(compressed_test_images,test_labels),\"\\n\")\n",
    "\n",
    "y_pred = knn.predict(compressed_test_images)\n",
    "\n",
    "print(\"Knn Matrix with PCA:\")\n",
    "print( confusion_matrix(test_labels,y_pred),\"\\n\")\n",
    "print(\"Classification Report:\")\n",
    "print(classification_report(test_labels, y_pred))\n"
   ]
  },
  {
   "cell_type": "code",
   "execution_count": 23,
   "metadata": {},
   "outputs": [
    {
     "name": "stdout",
     "output_type": "stream",
     "text": [
      "Cross Validation Scores: [0.869      0.86383333 0.86366667 0.85933333 0.86583333 0.864\n",
      " 0.85766667 0.86133333 0.86466667 0.86733333]\n",
      "Mean: 0.8636666666666665\n",
      "Standard deviation: 0.003285489985442728\n"
     ]
    }
   ],
   "source": [
    "scores = cross_val_score(knn,compressed_train_images,train_labels,cv=kf)\n",
    "display_scores(scores)\n"
   ]
  },
  {
   "cell_type": "markdown",
   "metadata": {},
   "source": [
    "# Logistic Regression"
   ]
  },
  {
   "cell_type": "code",
   "execution_count": 24,
   "metadata": {},
   "outputs": [
    {
     "name": "stdout",
     "output_type": "stream",
     "text": [
      "Logistic Regression Accuracy : 0.8412 \n",
      "\n",
      "Logistic Regression Matrix:\n",
      "[[812   5  16  46   9   0  98   0  14   0]\n",
      " [  2 960   1  27   4   0   4   0   2   0]\n",
      " [ 18   6 737  11 140   1  78   0   9   0]\n",
      " [ 25  15  15 858  44   1  37   0   5   0]\n",
      " [  0   3 106  33 779   1  70   0   8   0]\n",
      " [  1   1   0   0   0 891   0  56   9  42]\n",
      " [139   3 129  42 114   0 550   0  23   0]\n",
      " [  0   0   0   0   0  36   0 933   0  31]\n",
      " [  3   1   7  10   2   3  21   5 947   1]\n",
      " [  0   0   0   0   0  13   0  39   3 945]] \n",
      "\n",
      "Classification Report:\n",
      "              precision    recall  f1-score   support\n",
      "\n",
      "           0       0.81      0.81      0.81      1000\n",
      "           1       0.97      0.96      0.96      1000\n",
      "           2       0.73      0.74      0.73      1000\n",
      "           3       0.84      0.86      0.85      1000\n",
      "           4       0.71      0.78      0.74      1000\n",
      "           5       0.94      0.89      0.92      1000\n",
      "           6       0.64      0.55      0.59      1000\n",
      "           7       0.90      0.93      0.92      1000\n",
      "           8       0.93      0.95      0.94      1000\n",
      "           9       0.93      0.94      0.94      1000\n",
      "\n",
      "    accuracy                           0.84     10000\n",
      "   macro avg       0.84      0.84      0.84     10000\n",
      "weighted avg       0.84      0.84      0.84     10000\n",
      "\n"
     ]
    }
   ],
   "source": [
    "from sklearn.linear_model import LogisticRegression\n",
    "\n",
    "lgr=LogisticRegression()\n",
    "lgr.fit(train_images,train_labels)\n",
    "print('Logistic Regression Accuracy :', lgr.score(test_images,test_labels),\"\\n\")\n",
    "\n",
    "y_pred = lgr.predict(test_images)\n",
    "\n",
    "print(\"Logistic Regression Matrix:\")\n",
    "print( confusion_matrix(test_labels,y_pred),\"\\n\")\n",
    "print(\"Classification Report:\")\n",
    "print(classification_report(test_labels, y_pred))"
   ]
  },
  {
   "cell_type": "code",
   "execution_count": 25,
   "metadata": {},
   "outputs": [
    {
     "name": "stdout",
     "output_type": "stream",
     "text": [
      "Logistic Regression  Accuracy with PCA : 0.8376 \n",
      "\n",
      "Logistic Regression  Matrix with PCA:\n",
      "[[824   2  14  52   7   4  86   0  11   0]\n",
      " [  3 957   6  27   4   0   2   0   1   0]\n",
      " [ 18   6 726   9 131   2  99   2   6   1]\n",
      " [ 32  14   8 866  27   4  43   1   5   0]\n",
      " [  0   1 106  46 739   2  97   2   7   0]\n",
      " [  0   0   0   0   0 922   0  53   6  19]\n",
      " [148   2 130  40 116   2 538   0  24   0]\n",
      " [  0   0   0   0   0  35   0 929   0  36]\n",
      " [  6   2   6  10   3   7  21   8 934   3]\n",
      " [  0   0   0   0   0  16   0  42   1 941]] \n",
      "\n",
      "Classification Report:\n",
      "              precision    recall  f1-score   support\n",
      "\n",
      "           0       0.80      0.82      0.81      1000\n",
      "           1       0.97      0.96      0.96      1000\n",
      "           2       0.73      0.73      0.73      1000\n",
      "           3       0.82      0.87      0.84      1000\n",
      "           4       0.72      0.74      0.73      1000\n",
      "           5       0.93      0.92      0.92      1000\n",
      "           6       0.61      0.54      0.57      1000\n",
      "           7       0.90      0.93      0.91      1000\n",
      "           8       0.94      0.93      0.94      1000\n",
      "           9       0.94      0.94      0.94      1000\n",
      "\n",
      "    accuracy                           0.84     10000\n",
      "   macro avg       0.84      0.84      0.84     10000\n",
      "weighted avg       0.84      0.84      0.84     10000\n",
      "\n"
     ]
    }
   ],
   "source": [
    "lgr.fit(compressed_train_images,train_labels)\n",
    "print('Logistic Regression  Accuracy with PCA :',lgr.score(compressed_test_images,test_labels),\"\\n\")\n",
    "\n",
    "y_pred = lgr.predict(compressed_test_images)\n",
    "\n",
    "print(\"Logistic Regression  Matrix with PCA:\")\n",
    "print( confusion_matrix(test_labels,y_pred),\"\\n\")\n",
    "print(\"Classification Report:\")\n",
    "print(classification_report(test_labels, y_pred))"
   ]
  },
  {
   "cell_type": "code",
   "execution_count": 26,
   "metadata": {},
   "outputs": [
    {
     "name": "stdout",
     "output_type": "stream",
     "text": [
      "Cross Validation Scores: [0.8475     0.85533333 0.8545     0.85283333 0.83533333 0.841\n",
      " 0.84216667 0.8495     0.8515     0.85183333]\n",
      "Mean: 0.8481500000000001\n",
      "Standard deviation: 0.006261633617160585\n"
     ]
    }
   ],
   "source": [
    "scores = cross_val_score(lgr,compressed_train_images,train_labels,cv=kf)\n",
    "display_scores(scores)"
   ]
  },
  {
   "cell_type": "markdown",
   "metadata": {},
   "source": [
    "# Gaussian Naive Bayes"
   ]
  },
  {
   "cell_type": "code",
   "execution_count": 27,
   "metadata": {},
   "outputs": [
    {
     "name": "stdout",
     "output_type": "stream",
     "text": [
      "Naive Bayes Accuracy :  0.5856 \n",
      "\n",
      "Naive Bayes Matrix:\n",
      "[[586  64  29 162 110   0  20   0  29   0]\n",
      " [  1 939  14  36   7   0   1   0   2   0]\n",
      " [  7  14 324  65 545   0  23   0  22   0]\n",
      " [  9 387   6 545  43   0   4   0   6   0]\n",
      " [  0  34  44 131 779   0   4   0   8   0]\n",
      " [  0   0   1   1   0 278   3 660   5  52]\n",
      " [117  34 112 200 435   0  40   0  62   0]\n",
      " [  0   0   0   0   0   3   0 988   0   9]\n",
      " [  0   2  19  85 149   3  27   4 710   1]\n",
      " [  0   0   1   1   0  16   3 304   8 667]] \n",
      "\n",
      "Classification Report:\n",
      "              precision    recall  f1-score   support\n",
      "\n",
      "           0       0.81      0.59      0.68      1000\n",
      "           1       0.64      0.94      0.76      1000\n",
      "           2       0.59      0.32      0.42      1000\n",
      "           3       0.44      0.55      0.49      1000\n",
      "           4       0.38      0.78      0.51      1000\n",
      "           5       0.93      0.28      0.43      1000\n",
      "           6       0.32      0.04      0.07      1000\n",
      "           7       0.51      0.99      0.67      1000\n",
      "           8       0.83      0.71      0.77      1000\n",
      "           9       0.91      0.67      0.77      1000\n",
      "\n",
      "    accuracy                           0.59     10000\n",
      "   macro avg       0.64      0.59      0.56     10000\n",
      "weighted avg       0.64      0.59      0.56     10000\n",
      "\n"
     ]
    }
   ],
   "source": [
    "from sklearn.naive_bayes import GaussianNB\n",
    "\n",
    "nb=GaussianNB()\n",
    "nb.fit(train_images,train_labels)\n",
    "print('Naive Bayes Accuracy : ', nb.score(test_images,test_labels),\"\\n\")\n",
    "\n",
    "y_pred = nb.predict(test_images)\n",
    "print(\"Naive Bayes Matrix:\")\n",
    "print( confusion_matrix(test_labels,y_pred),\"\\n\")\n",
    "print(\"Classification Report:\")\n",
    "print(classification_report(test_labels, y_pred))"
   ]
  },
  {
   "cell_type": "code",
   "execution_count": 28,
   "metadata": {},
   "outputs": [
    {
     "name": "stdout",
     "output_type": "stream",
     "text": [
      "Naive Bayes Accuracy with PCA : 0.7586 \n",
      "\n",
      "Naive Bayes  Matrix with PCA:\n",
      "[[744   1  21  62   8   4  78   0  82   0]\n",
      " [ 11 888  16  50   2   2  15   0  16   0]\n",
      " [ 17   0 606   8 122   4 176   0  67   0]\n",
      " [ 53   5  11 788  28   9  63   0  43   0]\n",
      " [  3   0 121  31 651   2 145   0  47   0]\n",
      " [  1   0   0   1   0 746  34 163  38  17]\n",
      " [170   0 105  37  73   5 518   1  91   0]\n",
      " [  1   0   0   0   0  47   2 878   1  71]\n",
      " [ 19   0   7   5   6  17  38  33 874   1]\n",
      " [  0   0   0   0   0  22   5  62  18 893]] \n",
      "\n",
      "Classification Report:\n",
      "              precision    recall  f1-score   support\n",
      "\n",
      "           0       0.73      0.74      0.74      1000\n",
      "           1       0.99      0.89      0.94      1000\n",
      "           2       0.68      0.61      0.64      1000\n",
      "           3       0.80      0.79      0.80      1000\n",
      "           4       0.73      0.65      0.69      1000\n",
      "           5       0.87      0.75      0.80      1000\n",
      "           6       0.48      0.52      0.50      1000\n",
      "           7       0.77      0.88      0.82      1000\n",
      "           8       0.68      0.87      0.77      1000\n",
      "           9       0.91      0.89      0.90      1000\n",
      "\n",
      "    accuracy                           0.76     10000\n",
      "   macro avg       0.77      0.76      0.76     10000\n",
      "weighted avg       0.77      0.76      0.76     10000\n",
      "\n"
     ]
    }
   ],
   "source": [
    "nb.fit(compressed_train_images,train_labels)\n",
    "print('Naive Bayes Accuracy with PCA :',nb.score(compressed_test_images,test_labels),\"\\n\")\n",
    "\n",
    "y_pred = nb.predict(compressed_test_images)\n",
    "\n",
    "print(\"Naive Bayes  Matrix with PCA:\")\n",
    "print( confusion_matrix(test_labels,y_pred),\"\\n\")\n",
    "print(\"Classification Report:\")\n",
    "print(classification_report(test_labels, y_pred))"
   ]
  },
  {
   "cell_type": "markdown",
   "metadata": {},
   "source": [
    "##### better score with pca "
   ]
  },
  {
   "cell_type": "code",
   "execution_count": 29,
   "metadata": {},
   "outputs": [
    {
     "name": "stdout",
     "output_type": "stream",
     "text": [
      "Cross Validation Scores: [0.7685     0.7785     0.7695     0.7595     0.76616667 0.782\n",
      " 0.76616667 0.77666667 0.772      0.7555    ]\n",
      "Mean: 0.76945\n",
      "Standard deviation: 0.007836187423315853\n"
     ]
    }
   ],
   "source": [
    "scores = cross_val_score(nb,compressed_train_images,train_labels,cv=kf)\n",
    "display_scores(scores)"
   ]
  },
  {
   "cell_type": "markdown",
   "metadata": {},
   "source": [
    "# Decision Tree"
   ]
  },
  {
   "cell_type": "code",
   "execution_count": 30,
   "metadata": {},
   "outputs": [
    {
     "name": "stdout",
     "output_type": "stream",
     "text": [
      "Decision Tree Accuracy :  0.7924 \n",
      "\n",
      "Decision Tree Matrix:\n",
      "[[744   1  32  45   9   1 152   1  14   1]\n",
      " [  7 947   4  21   7   0  11   0   2   1]\n",
      " [ 24   2 646  20 150   1 142   0  12   3]\n",
      " [ 49  31  22 779  53   0  55   0  11   0]\n",
      " [ 14   3 175  52 635   0 113   0   8   0]\n",
      " [  0   3   3   2   0 885   0  59  19  29]\n",
      " [135   6 131  38 105   6 563   0  15   1]\n",
      " [  0   0   0   0   0  42   0 895   6  57]\n",
      " [  7   1  11   7  11  14  18   4 921   6]\n",
      " [  2   0   1   0   1  22   0  61   4 909]] \n",
      "\n",
      "Classification Report:\n",
      "              precision    recall  f1-score   support\n",
      "\n",
      "           0       0.76      0.74      0.75      1000\n",
      "           1       0.95      0.95      0.95      1000\n",
      "           2       0.63      0.65      0.64      1000\n",
      "           3       0.81      0.78      0.79      1000\n",
      "           4       0.65      0.64      0.64      1000\n",
      "           5       0.91      0.89      0.90      1000\n",
      "           6       0.53      0.56      0.55      1000\n",
      "           7       0.88      0.90      0.89      1000\n",
      "           8       0.91      0.92      0.92      1000\n",
      "           9       0.90      0.91      0.91      1000\n",
      "\n",
      "    accuracy                           0.79     10000\n",
      "   macro avg       0.79      0.79      0.79     10000\n",
      "weighted avg       0.79      0.79      0.79     10000\n",
      "\n"
     ]
    }
   ],
   "source": [
    "from sklearn.tree import DecisionTreeClassifier\n",
    "\n",
    "dt=DecisionTreeClassifier()\n",
    "dt.fit(train_images,train_labels)\n",
    "print('Decision Tree Accuracy : ', dt.score(test_images,test_labels),\"\\n\")\n",
    "\n",
    "y_pred = dt.predict(test_images)\n",
    "\n",
    "print(\"Decision Tree Matrix:\")\n",
    "print(confusion_matrix(test_labels,y_pred),\"\\n\")\n",
    "print(\"Classification Report:\")\n",
    "print(classification_report(test_labels, y_pred))"
   ]
  },
  {
   "cell_type": "code",
   "execution_count": 31,
   "metadata": {},
   "outputs": [
    {
     "name": "stdout",
     "output_type": "stream",
     "text": [
      "Decision Tree Accuracy with PCA :  0.7639 \n",
      "\n",
      "Decision Tree with PCA Matrix:\n",
      "[[724  12  27  48  19   6 153   0  10   1]\n",
      " [ 11 936   4  32   7   0   8   0   2   0]\n",
      " [ 36   6 640  27 140   3 126   1  20   1]\n",
      " [ 52  24  25 777  56   1  51   0  13   1]\n",
      " [ 10   1 174  49 622   3 132   0   7   2]\n",
      " [  2   1   3   5   3 838   5  90  12  41]\n",
      " [155   9 133  45 131   2 496   1  28   0]\n",
      " [  0   0   1   0   0  78   1 845   6  69]\n",
      " [  9   2  23  10  15  16  27   9 886   3]\n",
      " [  1   0   1   1   0  38   1  77   6 875]] \n",
      "\n",
      "Classification Report:\n",
      "              precision    recall  f1-score   support\n",
      "\n",
      "           0       0.72      0.72      0.72      1000\n",
      "           1       0.94      0.94      0.94      1000\n",
      "           2       0.62      0.64      0.63      1000\n",
      "           3       0.78      0.78      0.78      1000\n",
      "           4       0.63      0.62      0.62      1000\n",
      "           5       0.85      0.84      0.84      1000\n",
      "           6       0.50      0.50      0.50      1000\n",
      "           7       0.83      0.84      0.84      1000\n",
      "           8       0.89      0.89      0.89      1000\n",
      "           9       0.88      0.88      0.88      1000\n",
      "\n",
      "    accuracy                           0.76     10000\n",
      "   macro avg       0.76      0.76      0.76     10000\n",
      "weighted avg       0.76      0.76      0.76     10000\n",
      "\n"
     ]
    }
   ],
   "source": [
    "dt=DecisionTreeClassifier()\n",
    "dt.fit(compressed_train_images,train_labels)\n",
    "print('Decision Tree Accuracy with PCA : ', dt.score(compressed_test_images,test_labels),\"\\n\")\n",
    "\n",
    "y_pred = dt.predict(compressed_test_images)\n",
    "\n",
    "print(\"Decision Tree with PCA Matrix:\")\n",
    "print(confusion_matrix(test_labels,y_pred),\"\\n\")\n",
    "print(\"Classification Report:\")\n",
    "print(classification_report(test_labels, y_pred))"
   ]
  },
  {
   "cell_type": "code",
   "execution_count": 32,
   "metadata": {},
   "outputs": [
    {
     "name": "stdout",
     "output_type": "stream",
     "text": [
      "Cross Validation Scores: [0.76783333 0.76416667 0.7625     0.77616667 0.76266667 0.76716667\n",
      " 0.7665     0.762      0.77516667 0.7565    ]\n",
      "Mean: 0.7660666666666667\n",
      "Standard deviation: 0.0057034102858631\n"
     ]
    }
   ],
   "source": [
    "scores = cross_val_score(dt,compressed_train_images,train_labels,cv=kf)\n",
    "display_scores(scores)"
   ]
  },
  {
   "cell_type": "markdown",
   "metadata": {},
   "source": [
    "# SVC"
   ]
  },
  {
   "cell_type": "code",
   "execution_count": 33,
   "metadata": {},
   "outputs": [
    {
     "name": "stdout",
     "output_type": "stream",
     "text": [
      "SVM Accuracy :  0.8828 \n",
      "\n",
      "SVM Matrix:\n",
      "[[857   0  16  28   3   2  85   0   9   0]\n",
      " [  4 962   2  25   3   0   4   0   0   0]\n",
      " [ 11   2 816  16  88   0  65   0   2   0]\n",
      " [ 27   3  11 890  33   0  32   0   4   0]\n",
      " [  1   1  87  32 815   0  61   0   3   0]\n",
      " [  0   0   0   1   0 951   0  33   1  14]\n",
      " [135   1 104  27  68   0 654   0  11   0]\n",
      " [  0   0   0   0   0  21   0 955   0  24]\n",
      " [  3   1   1   5   2   2   4   5 977   0]\n",
      " [  0   0   0   0   0  11   1  37   0 951]] \n",
      "\n",
      "Classification Report:\n",
      "              precision    recall  f1-score   support\n",
      "\n",
      "           0       0.83      0.86      0.84      1000\n",
      "           1       0.99      0.96      0.98      1000\n",
      "           2       0.79      0.82      0.80      1000\n",
      "           3       0.87      0.89      0.88      1000\n",
      "           4       0.81      0.81      0.81      1000\n",
      "           5       0.96      0.95      0.96      1000\n",
      "           6       0.72      0.65      0.69      1000\n",
      "           7       0.93      0.95      0.94      1000\n",
      "           8       0.97      0.98      0.97      1000\n",
      "           9       0.96      0.95      0.96      1000\n",
      "\n",
      "    accuracy                           0.88     10000\n",
      "   macro avg       0.88      0.88      0.88     10000\n",
      "weighted avg       0.88      0.88      0.88     10000\n",
      "\n"
     ]
    }
   ],
   "source": [
    "from sklearn.svm import SVC\n",
    "\n",
    "svm = SVC()\n",
    "svm.fit(train_images,train_labels)\n",
    "print('SVM Accuracy : ', svm.score(test_images,test_labels),\"\\n\")\n",
    "\n",
    "y_pred = svm.predict(test_images)\n",
    "\n",
    "print(\"SVM Matrix:\")\n",
    "print(confusion_matrix(test_labels,y_pred),\"\\n\")\n",
    "print(\"Classification Report:\")\n",
    "print(classification_report(test_labels, y_pred))"
   ]
  },
  {
   "cell_type": "code",
   "execution_count": 34,
   "metadata": {},
   "outputs": [
    {
     "name": "stdout",
     "output_type": "stream",
     "text": [
      "SVM Accuracy with PCA :  0.8827 \n",
      "\n",
      "SVM with PCA Matrix:\n",
      "[[860   0   9  27   4   2  92   0   6   0]\n",
      " [  4 962   0  26   3   0   5   0   0   0]\n",
      " [ 13   1 802  13  97   0  73   0   1   0]\n",
      " [ 24   3  12 893  33   0  31   0   4   0]\n",
      " [  0   0  88  30 816   0  64   0   2   0]\n",
      " [  0   0   0   1   0 951   0  36   1  11]\n",
      " [133   1  96  26  70   0 660   0  14   0]\n",
      " [  0   0   0   0   0  18   0 957   0  25]\n",
      " [  4   0   0   8   2   3   5   5 973   0]\n",
      " [  0   0   0   0   0   9   1  37   0 953]] \n",
      "\n",
      "Classification Report:\n",
      "              precision    recall  f1-score   support\n",
      "\n",
      "           0       0.83      0.86      0.84      1000\n",
      "           1       0.99      0.96      0.98      1000\n",
      "           2       0.80      0.80      0.80      1000\n",
      "           3       0.87      0.89      0.88      1000\n",
      "           4       0.80      0.82      0.81      1000\n",
      "           5       0.97      0.95      0.96      1000\n",
      "           6       0.71      0.66      0.68      1000\n",
      "           7       0.92      0.96      0.94      1000\n",
      "           8       0.97      0.97      0.97      1000\n",
      "           9       0.96      0.95      0.96      1000\n",
      "\n",
      "    accuracy                           0.88     10000\n",
      "   macro avg       0.88      0.88      0.88     10000\n",
      "weighted avg       0.88      0.88      0.88     10000\n",
      "\n"
     ]
    }
   ],
   "source": [
    "svm.fit(compressed_train_images,train_labels)\n",
    "print('SVM Accuracy with PCA : ', svm.score(compressed_test_images,test_labels),\"\\n\")\n",
    "\n",
    "y_pred = svm.predict(compressed_test_images)\n",
    "\n",
    "print(\"SVM with PCA Matrix:\")\n",
    "print(confusion_matrix(test_labels,y_pred),\"\\n\")\n",
    "print(\"Classification Report:\")\n",
    "print(classification_report(test_labels, y_pred))"
   ]
  },
  {
   "cell_type": "markdown",
   "metadata": {},
   "source": [
    "# Ensemble Learning "
   ]
  },
  {
   "cell_type": "markdown",
   "metadata": {},
   "source": [
    "## Voting Classifier with knn , log regression and svc\n",
    "##### voting hard"
   ]
  },
  {
   "cell_type": "code",
   "execution_count": 35,
   "metadata": {},
   "outputs": [
    {
     "name": "stdout",
     "output_type": "stream",
     "text": [
      "Voting Accuracy with PCA :  0.8764 \n",
      "\n",
      "Voting with PCA Matrix:\n",
      "[[867   0  11  22   2   2  88   0   8   0]\n",
      " [  6 962   2  24   3   0   3   0   0   0]\n",
      " [ 20   4 809  10  98   0  57   0   2   0]\n",
      " [ 32   3  15 890  30   0  27   0   3   0]\n",
      " [  0   2  93  33 809   0  60   0   3   0]\n",
      " [  0   0   0   0   0 944   0  38   2  16]\n",
      " [161   2 114  25  79   0 606   0  13   0]\n",
      " [  0   0   0   0   0  17   0 955   0  28]\n",
      " [  4   0   1   8   1   4   7   6 969   0]\n",
      " [  0   0   0   0   0   9   0  37   1 953]] \n",
      "\n",
      "Classification Report:\n",
      "              precision    recall  f1-score   support\n",
      "\n",
      "           0       0.80      0.87      0.83      1000\n",
      "           1       0.99      0.96      0.98      1000\n",
      "           2       0.77      0.81      0.79      1000\n",
      "           3       0.88      0.89      0.88      1000\n",
      "           4       0.79      0.81      0.80      1000\n",
      "           5       0.97      0.94      0.96      1000\n",
      "           6       0.71      0.61      0.66      1000\n",
      "           7       0.92      0.95      0.94      1000\n",
      "           8       0.97      0.97      0.97      1000\n",
      "           9       0.96      0.95      0.95      1000\n",
      "\n",
      "    accuracy                           0.88     10000\n",
      "   macro avg       0.88      0.88      0.88     10000\n",
      "weighted avg       0.88      0.88      0.88     10000\n",
      "\n"
     ]
    }
   ],
   "source": [
    "from sklearn.ensemble import VotingClassifier\n",
    "\n",
    "voting_clf = VotingClassifier(\n",
    " estimators=[('lr', lgr), ('knn', knn), ('svc', svm)],\n",
    " voting='hard')\n",
    "\n",
    "voting_clf.fit(compressed_train_images, train_labels)\n",
    "print('Voting Accuracy with PCA : ', voting_clf.score(compressed_test_images,test_labels),\"\\n\")\n",
    "\n",
    "y_pred = voting_clf.predict(compressed_test_images)\n",
    "\n",
    "print(\"Voting with PCA Matrix:\")\n",
    "print(confusion_matrix(test_labels,y_pred),\"\\n\")\n",
    "print(\"Classification Report:\")\n",
    "print(classification_report(test_labels, y_pred))"
   ]
  },
  {
   "cell_type": "markdown",
   "metadata": {},
   "source": [
    "##### voting soft"
   ]
  },
  {
   "cell_type": "code",
   "execution_count": 36,
   "metadata": {},
   "outputs": [
    {
     "name": "stdout",
     "output_type": "stream",
     "text": [
      "Voting Accuracy with PCA :  0.8821 \n",
      "\n",
      "Voting with PCA Matrix:\n",
      "[[861   0  10  23   4   1  90   1  10   0]\n",
      " [  4 966   2  21   3   0   3   0   1   0]\n",
      " [ 17   0 800  11 100   0  68   1   3   0]\n",
      " [ 18   4  10 901  28   1  34   0   4   0]\n",
      " [  0   0  85  31 813   0  68   0   3   0]\n",
      " [  0   0   0   0   0 946   0  36   1  17]\n",
      " [139   1  93  27  79   0 642   0  19   0]\n",
      " [  0   0   0   0   0  15   0 957   0  28]\n",
      " [  0   1   0   5   2   3  10   4 975   0]\n",
      " [  0   0   0   0   0   6   0  33   1 960]] \n",
      "\n",
      "Classification Report:\n",
      "              precision    recall  f1-score   support\n",
      "\n",
      "           0       0.83      0.86      0.84      1000\n",
      "           1       0.99      0.97      0.98      1000\n",
      "           2       0.80      0.80      0.80      1000\n",
      "           3       0.88      0.90      0.89      1000\n",
      "           4       0.79      0.81      0.80      1000\n",
      "           5       0.97      0.95      0.96      1000\n",
      "           6       0.70      0.64      0.67      1000\n",
      "           7       0.93      0.96      0.94      1000\n",
      "           8       0.96      0.97      0.97      1000\n",
      "           9       0.96      0.96      0.96      1000\n",
      "\n",
      "    accuracy                           0.88     10000\n",
      "   macro avg       0.88      0.88      0.88     10000\n",
      "weighted avg       0.88      0.88      0.88     10000\n",
      "\n"
     ]
    }
   ],
   "source": [
    "\n",
    "svm = SVC(probability=True)\n",
    "\n",
    "voting_clf = VotingClassifier(\n",
    " estimators=[('lr', lgr), ('knn', knn), ('svc', svm)],\n",
    " voting='soft')\n",
    "\n",
    "voting_clf.fit(compressed_train_images, train_labels)\n",
    "print('Voting Accuracy with PCA : ', voting_clf.score(compressed_test_images,test_labels),\"\\n\")\n",
    "\n",
    "y_pred = voting_clf.predict(compressed_test_images)\n",
    "\n",
    "print(\"Voting with PCA Matrix:\")\n",
    "print(confusion_matrix(test_labels,y_pred),\"\\n\")\n",
    "print(\"Classification Report:\")\n",
    "print(classification_report(test_labels, y_pred))"
   ]
  },
  {
   "cell_type": "markdown",
   "metadata": {},
   "source": [
    "# Random Forest"
   ]
  },
  {
   "cell_type": "code",
   "execution_count": 37,
   "metadata": {},
   "outputs": [
    {
     "name": "stdout",
     "output_type": "stream",
     "text": [
      "Random Forest with PCA :  0.7431 \n",
      "\n",
      "Random Forest with PCA Matrix:\n",
      "[[775   4  20 106  11  29  22   0  32   1]\n",
      " [ 13 917   7  52   7   2   0   0   2   0]\n",
      " [ 44   2 636  11 181   9  67   1  48   1]\n",
      " [ 48  16   2 816  60  16  28   1  11   2]\n",
      " [  3   2 175  38 693  10  42   0  37   0]\n",
      " [  2   0   1   2   6 781   4 107  23  74]\n",
      " [260   2 162  65 184  41 219   0  67   0]\n",
      " [  2   0   0   0   1 126   0 788   7  76]\n",
      " [  9   2   7   7  10  28   8   9 918   2]\n",
      " [  0   0   1   0   0  61   0  47   3 888]] \n",
      "\n",
      "Classification Report:\n",
      "              precision    recall  f1-score   support\n",
      "\n",
      "           0       0.67      0.78      0.72      1000\n",
      "           1       0.97      0.92      0.94      1000\n",
      "           2       0.63      0.64      0.63      1000\n",
      "           3       0.74      0.82      0.78      1000\n",
      "           4       0.60      0.69      0.64      1000\n",
      "           5       0.71      0.78      0.74      1000\n",
      "           6       0.56      0.22      0.32      1000\n",
      "           7       0.83      0.79      0.81      1000\n",
      "           8       0.80      0.92      0.85      1000\n",
      "           9       0.85      0.89      0.87      1000\n",
      "\n",
      "    accuracy                           0.74     10000\n",
      "   macro avg       0.74      0.74      0.73     10000\n",
      "weighted avg       0.74      0.74      0.73     10000\n",
      "\n"
     ]
    }
   ],
   "source": [
    "from sklearn.ensemble import RandomForestClassifier\n",
    "\n",
    "rnf = RandomForestClassifier(n_estimators=500, max_leaf_nodes=16, n_jobs=-1)\n",
    "\n",
    "rnf.fit(compressed_train_images, train_labels)\n",
    "print('Random Forest with PCA : ', rnf.score(compressed_test_images,test_labels),\"\\n\")\n",
    "\n",
    "y_pred = rnf.predict(compressed_test_images)\n",
    "\n",
    "print(\"Random Forest with PCA Matrix:\")\n",
    "print(confusion_matrix(test_labels,y_pred),\"\\n\")\n",
    "print(\"Classification Report:\")\n",
    "print(classification_report(test_labels, y_pred))"
   ]
  },
  {
   "cell_type": "code",
   "execution_count": 38,
   "metadata": {},
   "outputs": [
    {
     "name": "stdout",
     "output_type": "stream",
     "text": [
      "Random Forest Accuracy :  0.7564 \n",
      "\n",
      "Random Forest Matrix:\n",
      "[[780   7  51 121   8   1   7   0  25   0]\n",
      " [  1 847  21 125   3   0   1   0   2   0]\n",
      " [ 13   0 690  12 270   0   3   0  12   0]\n",
      " [ 30   8  39 880  33   0   5   0   5   0]\n",
      " [  0   2 153 100 731   3   5   0   6   0]\n",
      " [  0   0   0   4   0 829   0  89   9  69]\n",
      " [216   4 205 124 341   1  65   0  44   0]\n",
      " [  0   0   0   0   0  14   0 889   0  97]\n",
      " [  2   2  38  21   4  10   0   6 917   0]\n",
      " [  0   0   0   0   0   7   0  53   4 936]] \n",
      "\n",
      "Classification Report:\n",
      "              precision    recall  f1-score   support\n",
      "\n",
      "           0       0.75      0.78      0.76      1000\n",
      "           1       0.97      0.85      0.91      1000\n",
      "           2       0.58      0.69      0.63      1000\n",
      "           3       0.63      0.88      0.74      1000\n",
      "           4       0.53      0.73      0.61      1000\n",
      "           5       0.96      0.83      0.89      1000\n",
      "           6       0.76      0.07      0.12      1000\n",
      "           7       0.86      0.89      0.87      1000\n",
      "           8       0.90      0.92      0.91      1000\n",
      "           9       0.85      0.94      0.89      1000\n",
      "\n",
      "    accuracy                           0.76     10000\n",
      "   macro avg       0.78      0.76      0.73     10000\n",
      "weighted avg       0.78      0.76      0.73     10000\n",
      "\n"
     ]
    }
   ],
   "source": [
    "rnf.fit(train_images,train_labels)\n",
    "print('Random Forest Accuracy : ', rnf.score(test_images,test_labels),\"\\n\")\n",
    "\n",
    "y_pred = rnf.predict(test_images)\n",
    "\n",
    "print(\"Random Forest Matrix:\")\n",
    "print(confusion_matrix(test_labels,y_pred),\"\\n\")\n",
    "print(\"Classification Report:\")\n",
    "print(classification_report(test_labels, y_pred))"
   ]
  },
  {
   "cell_type": "markdown",
   "metadata": {},
   "source": [
    "##### lets plot the pixels importance with RandomForest feature_importances"
   ]
  },
  {
   "cell_type": "code",
   "execution_count": 68,
   "metadata": {},
   "outputs": [
    {
     "data": {
      "text/plain": [
       "<matplotlib.axes._subplots.AxesSubplot at 0x2a00be9e248>"
      ]
     },
     "execution_count": 68,
     "metadata": {},
     "output_type": "execute_result"
    },
    {
     "data": {
      "image/png": "[encoded data removed]",
      "text/plain": [
       "<Figure size 432x360 with 2 Axes>"
      ]
     },
     "metadata": {},
     "output_type": "display_data"
    }
   ],
   "source": [
    "importances = rnf.feature_importances_\n",
    "importances = importances.reshape(28,28)\n",
    "plt.figure(figsize=(6,5))\n",
    "plt.title('pixel importance',fontsize=20)\n",
    "sns.heatmap(importances,cmap='hot' ,annot=False,xticklabels=False, yticklabels=False,cbar_kws=dict(ticks=[]))\n"
   ]
  },
  {
   "cell_type": "markdown",
   "metadata": {},
   "source": [
    "# AdaBoost"
   ]
  },
  {
   "cell_type": "code",
   "execution_count": 71,
   "metadata": {},
   "outputs": [
    {
     "name": "stdout",
     "output_type": "stream",
     "text": [
      "AdaBoost with PCA :  0.7614 \n",
      "\n",
      "AdaBoost with PCA Matrix:\n",
      "[[720  10  28  52  20   5 153   0  11   1]\n",
      " [ 15 932   5  27   9   1  10   0   1   0]\n",
      " [ 34   9 649  21 151   3 111   1  21   0]\n",
      " [ 50  32  22 765  65   3  50   1  11   1]\n",
      " [  4   6 176  50 611   2 142   0   7   2]\n",
      " [  1   1   0   5   0 837   4  85  21  46]\n",
      " [156   7 135  51 131   5 490   1  24   0]\n",
      " [  1   0   0   1   0  75   0 844   5  74]\n",
      " [  8   2  26   8  15  18  25   7 888   3]\n",
      " [  0   0   0   0   0  45   2  71   4 878]] \n",
      "\n",
      "Classification Report:\n",
      "              precision    recall  f1-score   support\n",
      "\n",
      "           0       0.73      0.72      0.72      1000\n",
      "           1       0.93      0.93      0.93      1000\n",
      "           2       0.62      0.65      0.64      1000\n",
      "           3       0.78      0.77      0.77      1000\n",
      "           4       0.61      0.61      0.61      1000\n",
      "           5       0.84      0.84      0.84      1000\n",
      "           6       0.50      0.49      0.49      1000\n",
      "           7       0.84      0.84      0.84      1000\n",
      "           8       0.89      0.89      0.89      1000\n",
      "           9       0.87      0.88      0.88      1000\n",
      "\n",
      "    accuracy                           0.76     10000\n",
      "   macro avg       0.76      0.76      0.76     10000\n",
      "weighted avg       0.76      0.76      0.76     10000\n",
      "\n"
     ]
    }
   ],
   "source": [
    "from sklearn.ensemble import AdaBoostClassifier\n",
    "adb = AdaBoostClassifier(DecisionTreeClassifier(), n_estimators=200, algorithm=\"SAMME.R\")\n",
    "\n",
    "adb.fit(compressed_train_images, train_labels)\n",
    "print('AdaBoost with PCA : ', adb.score(compressed_test_images,test_labels),\"\\n\")\n",
    "\n",
    "y_pred = adb.predict(compressed_test_images)\n",
    "\n",
    "print(\"AdaBoost with PCA Matrix:\")\n",
    "print(confusion_matrix(test_labels,y_pred),\"\\n\")\n",
    "print(\"Classification Report:\")\n",
    "print(classification_report(test_labels, y_pred))"
   ]
  },
  {
   "cell_type": "code",
   "execution_count": null,
   "metadata": {},
   "outputs": [],
   "source": []
  }
 ],
 "metadata": {
  "kernelspec": {
   "display_name": "Python 3",
   "language": "python",
   "name": "python3"
  },
  "language_info": {
   "codemirror_mode": {
    "name": "ipython",
    "version": 3
   },
   "file_extension": ".py",
   "mimetype": "text/x-python",
   "name": "python",
   "nbconvert_exporter": "python",
   "pygments_lexer": "ipython3",
   "version": "3.7.6"
  }
 },
 "nbformat": 4,
 "nbformat_minor": 4
}
